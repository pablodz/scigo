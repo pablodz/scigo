{
 "cells": [
  {
   "cell_type": "code",
   "execution_count": 27,
   "metadata": {},
   "outputs": [
    {
     "name": "stdout",
     "output_type": "stream",
     "text": [
      "[0.03671089 0.21588914 0.63079278 1.3209992  2.23481168 3.23481168\n",
      " 4.14862417 4.83883058 5.25373422 5.43291247 5.46962336]\n",
      "10\n",
      "0.08192543559052605 0.006757129341978631\n",
      "0.1986720121208764 0.039737276136038925\n",
      "0.33959762687182604 0.11610582457957172\n",
      "0.49144233519241015 0.24314752075598323\n",
      "0.6392073430825657 0.4113468960854821\n",
      "0.7690344417185278 0.5954102332564967\n",
      "0.870910116591047 0.7636096085859955\n",
      "0.9405708117005461 0.8906513047624071\n",
      "0.9800660343057719 0.9670198532059398\n",
      "0.9966384615312127 1\n",
      "0.9966384615312127 1\n",
      "0.9800660343057719 0.9670198532059398\n",
      "0.9405708117005461 0.8906513047624071\n",
      "0.870910116591047 0.7636096085859955\n",
      "0.7690344417185278 0.5954102332564967\n",
      "0.6392073430825657 0.4113468960854821\n",
      "0.49144233519241015 0.24314752075598323\n",
      "0.33959762687182604 0.11610582457957172\n",
      "0.1986720121208764 0.039737276136038925\n",
      "0.08192543559052605 0.006757129341978631\n"
     ]
    }
   ],
   "source": [
    "\n",
    "import numpy as np\n",
    "from scipy import signal\n",
    "\n",
    "M=20\n",
    "beta=5.0\n",
    "\n",
    "# array=signal.windows.kaiser_bessel_derived(M, beta)\n",
    "# print(len(array))\n",
    "# print(array)\n",
    "\n",
    "\n",
    "M2=M // 2 + 1\n",
    "kaiser_window = signal.windows.kaiser(M2, beta)\n",
    "\n",
    "csum = np.cumsum(kaiser_window)\n",
    "print(csum)\n",
    "half_window = np.sqrt(csum[:-1] / csum[-1])\n",
    "\n",
    "print(len(half_window))\n",
    "w = np.concatenate((half_window, half_window[::-1]), axis=0)\n",
    "\n",
    "result=[\n",
    "        \n",
    "\t\t\t0.08192543559052605,\n",
    "\t\t\t0.1986720121208764,\n",
    "\t\t\t0.33959762687182604,\n",
    "\t\t\t0.49144233519241015,\n",
    "\t\t\t0.6392073430825657,\n",
    "\t\t\t0.7690344417185278,\n",
    "\t\t\t0.870910116591047,\n",
    "\t\t\t0.9405708117005461,\n",
    "\t\t\t0.9800660343057719,\n",
    "\t\t\t0.9966384615312127,\n",
    "\t\t\t0.9966384615312127,\n",
    "\t\t\t0.9800660343057719,\n",
    "\t\t\t0.9405708117005461,\n",
    "\t\t\t0.870910116591047,\n",
    "\t\t\t0.7690344417185278,\n",
    "\t\t\t0.6392073430825657,\n",
    "\t\t\t0.49144233519241015,\n",
    "\t\t\t0.33959762687182604,\n",
    "\t\t\t0.1986720121208764,\n",
    "\t\t\t0.08192543559052605,\n",
    "   ]\n",
    "\n",
    "for i in w:\n",
    "    print(i, result.pop(0))\n",
    "\n",
    "# kaiser_window = signal.windows.kaiser(10, beta)\n",
    "# print(kaiser_window)\n"
   ]
  },
  {
   "cell_type": "code",
   "execution_count": 22,
   "metadata": {},
   "outputs": [
    {
     "data": {
      "text/plain": [
       "[6, 5, 4, 3, 2, 1]"
      ]
     },
     "execution_count": 22,
     "metadata": {},
     "output_type": "execute_result"
    }
   ],
   "source": [
    "data=[1,2,3,4,5,6]\n",
    "data[::-1]"
   ]
  },
  {
   "cell_type": "code",
   "execution_count": 8,
   "metadata": {},
   "outputs": [
    {
     "data": {
      "text/plain": [
       "11"
      ]
     },
     "execution_count": 8,
     "metadata": {},
     "output_type": "execute_result"
    }
   ],
   "source": [
    "21//2+1"
   ]
  },
  {
   "cell_type": "code",
   "execution_count": 9,
   "metadata": {},
   "outputs": [
    {
     "data": {
      "text/plain": [
       "11"
      ]
     },
     "execution_count": 9,
     "metadata": {},
     "output_type": "execute_result"
    }
   ],
   "source": [
    "20//2+1"
   ]
  },
  {
   "cell_type": "code",
   "execution_count": 10,
   "metadata": {},
   "outputs": [
    {
     "data": {
      "text/plain": [
       "array([ 1,  2,  3,  4,  5,  6,  7,  8,  9, 10, 11, 12, 13, 14, 15, 16, 17,\n",
       "       18, 19])"
      ]
     },
     "execution_count": 10,
     "metadata": {},
     "output_type": "execute_result"
    }
   ],
   "source": [
    "data=np.array([1,2,3,4,5,6,7,8,9,10,11,12,13,14,15,16,17,18,19,20])\n",
    "data[:-1]"
   ]
  }
 ],
 "metadata": {
  "kernelspec": {
   "display_name": "Python 3",
   "language": "python",
   "name": "python3"
  },
  "language_info": {
   "codemirror_mode": {
    "name": "ipython",
    "version": 3
   },
   "file_extension": ".py",
   "mimetype": "text/x-python",
   "name": "python",
   "nbconvert_exporter": "python",
   "pygments_lexer": "ipython3",
   "version": "3.10.8"
  },
  "orig_nbformat": 4,
  "vscode": {
   "interpreter": {
    "hash": "e7370f93d1d0cde622a1f8e1c04877d8463912d04d973331ad4851f04de6915a"
   }
  }
 },
 "nbformat": 4,
 "nbformat_minor": 2
}
